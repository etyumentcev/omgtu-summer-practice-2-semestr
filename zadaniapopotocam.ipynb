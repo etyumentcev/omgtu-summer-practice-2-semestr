{
 "cells": [
  {
   "cell_type": "code",
   "execution_count": 5,
   "metadata": {
    "dotnet_interactive": {
     "language": "csharp"
    },
    "polyglot_notebook": {
     "kernelName": "csharp"
    }
   },
   "outputs": [],
   "source": [
    "using System;\n",
    "using System.Linq;\n",
    "using System.Threading;\n",
    "using System.Threading.Tasks;\n",
    "\n",
    "class DefiniteIntegral\n",
    "{\n",
    "    public static double Solve(double a, double b, Func<double, double> function, double step, int threadsNumber)\n",
    "    {\n",
    "        // Проверяем, что количество потоков не превышает количество шагов разбиения\n",
    "        if (threadsNumber > (int)((b - a) / step))\n",
    "            threadsNumber = (int)((b - a) / step);\n",
    "\n",
    "        // Размер одного отрезка для каждого потока\n",
    "        double threadStep = (b - a) / threadsNumber;\n",
    "\n",
    "        // Массив потоков\n",
    "        Task[] tasks = new Task[threadsNumber];\n",
    "\n",
    "        // Разделяемая переменная для суммирования результатов\n",
    "        long sharedResult = 0;\n",
    "\n",
    "        // Барьер для синхронизации потоков\n",
    "        Barrier barrier = new Barrier(threadsNumber);\n",
    "\n",
    "        // Создаем и запускаем потоки\n",
    "        for (int i = 0; i < threadsNumber; i++)\n",
    "        {\n",
    "            int threadIndex = i;\n",
    "            tasks[i] = Task.Run(() =>\n",
    "            {\n",
    "                // Вычисляем значение интеграла на отрезке для текущего потока\n",
    "                double localResult = 0;\n",
    "                double localStep = step;\n",
    "                if (threadIndex == threadsNumber - 1)\n",
    "                    localStep = (b - a) - threadIndex * threadStep;\n",
    "                for (double x = a + threadIndex * threadStep; x < a + (threadIndex + 1) * threadStep; x += localStep)\n",
    "                    localResult += (function(x) + function(x + localStep)) * localStep / 2;\n",
    "\n",
    "                // Прибавляем результат к разделяемой переменной\n",
    "                Interlocked.Add(ref sharedResult, (long)(localResult * 1e15));\n",
    "\n",
    "                // Сигнализируем барьеру о завершении работы потока\n",
    "                barrier.SignalAndWait();\n",
    "            });\n",
    "        }\n",
    "\n",
    "        // Дожидаемся завершения всех потоков\n",
    "        Task.WaitAll(tasks);\n",
    "\n",
    "        // Возвращаем результат\n",
    "        return Math.Round(sharedResult / 1e15);\n",
    "    }\n",
    "}\n",
    "\n"
   ]
  },
  {
   "cell_type": "code",
   "execution_count": 6,
   "metadata": {
    "dotnet_interactive": {
     "language": "csharp"
    },
    "polyglot_notebook": {
     "kernelName": "csharp"
    }
   },
   "outputs": [
    {
     "data": {
      "text/html": [
       "<div><div></div><div></div><div><strong>Installed Packages</strong><ul><li><span>xunit, 2.8.1</span></li></ul></div></div>"
      ]
     },
     "metadata": {},
     "output_type": "display_data"
    }
   ],
   "source": [
    "#!csharp\n",
    "\n",
    "#r \"nuget: xunit, 2.8.1\"\n",
    "\n",
    "using Xunit;\n",
    "\n",
    "var X = (double x) => x;\n",
    "var SIN = (double x) => Math.Sin(x);\n",
    "\n",
    "double a = DefiniteIntegral.Solve(-1, 1, X, 1e-4, 2);\n",
    "double b = DefiniteIntegral.Solve(-1, 1, SIN, 1e-5, 8);\n",
    "double c = DefiniteIntegral.Solve(0, 10, X, 1e-6, 8);"
   ]
  },
  {
   "cell_type": "code",
   "execution_count": 7,
   "metadata": {},
   "outputs": [],
   "source": [
    "Assert.Equal(0, DefiniteIntegral.Solve(-1, 1, X, 1e-4, 2), 1e-4);"
   ]
  },
  {
   "cell_type": "code",
   "execution_count": 8,
   "metadata": {},
   "outputs": [],
   "source": [
    "Assert.Equal(0, DefiniteIntegral.Solve(-1, 1, SIN, 1e-5, 8), 1e-4);"
   ]
  },
  {
   "cell_type": "code",
   "execution_count": 9,
   "metadata": {},
   "outputs": [],
   "source": [
    "Assert.Equal(50, DefiniteIntegral.Solve(0, 10, X, 1e-6, 8), 1e-5);"
   ]
  }
 ],
 "metadata": {
  "kernelspec": {
   "display_name": ".NET (C#)",
   "language": "C#",
   "name": ".net-csharp"
  },
  "polyglot_notebook": {
   "kernelInfo": {
    "defaultKernelName": "csharp",
    "items": [
     {
      "aliases": [],
      "languageName": "csharp",
      "name": "csharp"
     }
    ]
   }
  }
 },
 "nbformat": 4,
 "nbformat_minor": 2
}
